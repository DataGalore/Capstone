{
 "cells": [
  {
   "cell_type": "code",
   "execution_count": 1,
   "metadata": {
    "collapsed": true
   },
   "outputs": [],
   "source": [
    "import pandas as pd\n",
    "import numpy as np"
   ]
  },
  {
   "cell_type": "code",
   "execution_count": 2,
   "metadata": {
    "collapsed": false
   },
   "outputs": [
    {
     "data": {
      "text/plain": [
       "2011-01-01 00:00:00    0\n",
       "2011-01-01 01:00:00    1\n",
       "2011-01-01 02:00:00    2\n",
       "2011-01-01 03:00:00    3\n",
       "2011-01-01 04:00:00    4\n",
       "Freq: H, dtype: int64"
      ]
     },
     "execution_count": 2,
     "metadata": {},
     "output_type": "execute_result"
    }
   ],
   "source": [
    "rng = pd.date_range('1/1/2011', periods=72, freq='H')\n",
    "ts = pd.Series(list(range(len(rng))), index=rng)\n",
    "ts.head()\n",
    "# len(ts)"
   ]
  },
  {
   "cell_type": "code",
   "execution_count": 3,
   "metadata": {
    "collapsed": false
   },
   "outputs": [
    {
     "data": {
      "text/plain": [
       "2011-01-01 00:00:00    0\n",
       "2011-01-01 00:45:00    0\n",
       "2011-01-01 01:30:00    1\n",
       "2011-01-01 02:15:00    2\n",
       "2011-01-01 03:00:00    3\n",
       "Freq: 45T, dtype: int64"
      ]
     },
     "execution_count": 3,
     "metadata": {},
     "output_type": "execute_result"
    }
   ],
   "source": [
    "converted = ts.asfreq('45Min', method='pad')\n",
    "converted.head()\n",
    "# len(converted)"
   ]
  },
  {
   "cell_type": "code",
   "execution_count": 4,
   "metadata": {
    "collapsed": false
   },
   "outputs": [
    {
     "data": {
      "text/plain": [
       "2011-01-01 00:00:00    0\n",
       "2011-01-01 00:45:00    0\n",
       "2011-01-01 01:30:00    1\n",
       "2011-01-01 02:15:00    2\n",
       "2011-01-01 03:00:00    3\n",
       "Freq: 45T, dtype: int64"
      ]
     },
     "execution_count": 4,
     "metadata": {},
     "output_type": "execute_result"
    }
   ],
   "source": [
    "converted = ts.asfreq('45Min', method='ffill')\n",
    "converted.head()"
   ]
  },
  {
   "cell_type": "markdown",
   "metadata": {
    "collapsed": true
   },
   "source": [
    "Does asfreq change the # of rows?\n",
    "* Answer :Yes, from 72 to 95 rows(more rows and more data)"
   ]
  },
  {
   "cell_type": "markdown",
   "metadata": {
    "collapsed": false
   },
   "source": [
    "What do the different methods do?\n",
    "method : {‘backfill’, ‘bfill’, ‘pad’, ‘ffill’, None}\n",
    "* Answer: \n",
    "  *  backfill: use next cell value for current cell.\n",
    "  *  ffill: use previous cell's value to fill the current cell.\n",
    "  *  None : if we want no value assigned to the new rows."
   ]
  },
  {
   "cell_type": "markdown",
   "metadata": {
    "collapsed": false
   },
   "source": [
    "Might any of these methods have pitfalls from a logical point of view?\n",
    "* Answer: backfill will lead to interpolation."
   ]
  },
  {
   "cell_type": "markdown",
   "metadata": {
    "collapsed": true
   },
   "source": [
    "What's the difference between going to a higher frequency and a lower frequency?\n",
    "* Answer :Higher frequency will add more records and Lower frequency will help in shrinking the time periods. "
   ]
  },
  {
   "cell_type": "code",
   "execution_count": 5,
   "metadata": {
    "collapsed": true
   },
   "outputs": [],
   "source": [
    "converted = ts.asfreq('90Min', method = 'bfill')"
   ]
  },
  {
   "cell_type": "code",
   "execution_count": 6,
   "metadata": {
    "collapsed": false
   },
   "outputs": [
    {
     "data": {
      "text/plain": [
       "2011-01-01 03:00:00     3\n",
       "2011-01-01 06:00:00     6\n",
       "2011-01-01 09:00:00     9\n",
       "2011-01-01 12:00:00    12\n",
       "2011-01-01 15:00:00    15\n",
       "2011-01-01 18:00:00    18\n",
       "2011-01-01 21:00:00    21\n",
       "2011-01-02 00:00:00    24\n",
       "2011-01-02 03:00:00    27\n",
       "Freq: 3H, dtype: int64"
      ]
     },
     "execution_count": 6,
     "metadata": {},
     "output_type": "execute_result"
    }
   ],
   "source": [
    "converted = ts.asfreq('3H')\n",
    "converted[1:10]"
   ]
  },
  {
   "cell_type": "markdown",
   "metadata": {
    "collapsed": true
   },
   "source": [
    "What's different logically about going to a higher frequency vs a lower frequency? \n",
    "* Answer: Higher frequency  adds more records and Lower frequency helps in shrinking the time periods in case there is not enough data for certain periods, it will make more sense to shrink it to use lower frequency.\n",
    "\n",
    "What do you want to do when switching to a lower freqeuncy that is not logical when switching to a higher frequency?\n",
    "* Answer: We do not want to drop the data when we lower the frequency so resamling should be the way.\n"
   ]
  },
  {
   "cell_type": "code",
   "execution_count": 7,
   "metadata": {
    "collapsed": false
   },
   "outputs": [
    {
     "data": {
      "text/plain": [
       "2011-01-01 00:00:00     0.5\n",
       "2011-01-01 02:00:00     2.5\n",
       "2011-01-01 04:00:00     4.5\n",
       "2011-01-01 06:00:00     6.5\n",
       "2011-01-01 08:00:00     8.5\n",
       "2011-01-01 10:00:00    10.5\n",
       "2011-01-01 12:00:00    12.5\n",
       "2011-01-01 14:00:00    14.5\n",
       "2011-01-01 16:00:00    16.5\n",
       "2011-01-01 18:00:00    18.5\n",
       "2011-01-01 20:00:00    20.5\n",
       "2011-01-01 22:00:00    22.5\n",
       "2011-01-02 00:00:00    24.5\n",
       "2011-01-02 02:00:00    26.5\n",
       "2011-01-02 04:00:00    28.5\n",
       "2011-01-02 06:00:00    30.5\n",
       "2011-01-02 08:00:00    32.5\n",
       "2011-01-02 10:00:00    34.5\n",
       "2011-01-02 12:00:00    36.5\n",
       "2011-01-02 14:00:00    38.5\n",
       "2011-01-02 16:00:00    40.5\n",
       "2011-01-02 18:00:00    42.5\n",
       "2011-01-02 20:00:00    44.5\n",
       "2011-01-02 22:00:00    46.5\n",
       "2011-01-03 00:00:00    48.5\n",
       "2011-01-03 02:00:00    50.5\n",
       "2011-01-03 04:00:00    52.5\n",
       "2011-01-03 06:00:00    54.5\n",
       "2011-01-03 08:00:00    56.5\n",
       "2011-01-03 10:00:00    58.5\n",
       "2011-01-03 12:00:00    60.5\n",
       "2011-01-03 14:00:00    62.5\n",
       "2011-01-03 16:00:00    64.5\n",
       "2011-01-03 18:00:00    66.5\n",
       "2011-01-03 20:00:00    68.5\n",
       "2011-01-03 22:00:00    70.5\n",
       "Freq: 2H, dtype: float64"
      ]
     },
     "execution_count": 7,
     "metadata": {},
     "output_type": "execute_result"
    }
   ],
   "source": [
    "ts.resample('2H').mean()"
   ]
  },
  {
   "cell_type": "markdown",
   "metadata": {
    "collapsed": true
   },
   "source": [
    " What if you want to downsample and you don't want to ffill or bfill?\n",
    "*  Answer: We can use method = \"None\""
   ]
  },
  {
   "cell_type": "markdown",
   "metadata": {
    "collapsed": true
   },
   "source": [
    "What is the difference between .resample() and .asfreq()?\n",
    "* Answer: .resample() offers aggregation options, it creates an object and we can experiment with lot more methods like mean, var, sum etc.\n",
    " whereas .as freq is limited and does not provide such options.\n"
   ]
  },
  {
   "cell_type": "markdown",
   "metadata": {
    "collapsed": true
   },
   "source": [
    "What are some special things you can do with .resample() you can't do with .asfreq()?\n",
    "* Answer: .resample.mean(), .resample.var(), .resample.sum()\n",
    "\n"
   ]
  },
  {
   "cell_type": "code",
   "execution_count": 8,
   "metadata": {
    "collapsed": false
   },
   "outputs": [
    {
     "data": {
      "text/plain": [
       "2011-01-01 01:00:00     1\n",
       "2011-01-01 03:00:00     3\n",
       "2011-01-01 06:00:00     6\n",
       "2011-01-01 11:00:00    11\n",
       "2011-01-02 17:00:00    41\n",
       "2011-01-02 22:00:00    46\n",
       "2011-01-03 05:00:00    53\n",
       "2011-01-03 08:00:00    56\n",
       "2011-01-03 16:00:00    64\n",
       "2011-01-03 20:00:00    68\n",
       "dtype: int64"
      ]
     },
     "execution_count": 8,
     "metadata": {},
     "output_type": "execute_result"
    }
   ],
   "source": [
    "irreg_ts = ts[list(np.random.choice(a= list(range(len(ts))),size = 10,replace = False))]\n",
    "irreg_ts = irreg_ts.sort_index()\n",
    "irreg_ts"
   ]
  },
  {
   "cell_type": "code",
   "execution_count": 9,
   "metadata": {
    "collapsed": false
   },
   "outputs": [
    {
     "data": {
      "text/plain": [
       "2011-01-01 01:00:00    1.0\n",
       "2011-01-02 01:00:00    NaN\n",
       "2011-01-03 01:00:00    NaN\n",
       "Freq: D, dtype: float64"
      ]
     },
     "execution_count": 9,
     "metadata": {},
     "output_type": "execute_result"
    }
   ],
   "source": [
    "irreg_ts.asfreq('D')\n",
    "# dint work as the data is not ordered."
   ]
  },
  {
   "cell_type": "code",
   "execution_count": 10,
   "metadata": {
    "collapsed": false
   },
   "outputs": [
    {
     "data": {
      "text/plain": [
       "1"
      ]
     },
     "execution_count": 10,
     "metadata": {},
     "output_type": "execute_result"
    }
   ],
   "source": [
    "irreg_ts.asfreq('D').count()"
   ]
  },
  {
   "cell_type": "code",
   "execution_count": 11,
   "metadata": {
    "collapsed": false
   },
   "outputs": [
    {
     "data": {
      "text/plain": [
       "2011-01-01    4\n",
       "2011-01-02    2\n",
       "2011-01-03    4\n",
       "Freq: D, dtype: int64"
      ]
     },
     "execution_count": 11,
     "metadata": {},
     "output_type": "execute_result"
    }
   ],
   "source": [
    "irreg_ts.resample('D').count()"
   ]
  },
  {
   "cell_type": "code",
   "execution_count": 12,
   "metadata": {
    "collapsed": false
   },
   "outputs": [
    {
     "data": {
      "text/plain": [
       "2011-01-01 01:00:00     1\n",
       "2011-01-01 03:00:00     3\n",
       "2011-01-01 06:00:00     6\n",
       "2011-01-01 11:00:00    11\n",
       "2011-01-02 17:00:00    41\n",
       "2011-01-02 22:00:00    46\n",
       "2011-01-03 05:00:00    53\n",
       "2011-01-03 08:00:00    56\n",
       "2011-01-03 16:00:00    64\n",
       "2011-01-03 20:00:00    68\n",
       "dtype: int64"
      ]
     },
     "execution_count": 12,
     "metadata": {},
     "output_type": "execute_result"
    }
   ],
   "source": [
    "irreg_ts.fillna(limit = 5 , method = 'ffill')"
   ]
  },
  {
   "cell_type": "code",
   "execution_count": 13,
   "metadata": {
    "collapsed": false
   },
   "outputs": [
    {
     "data": {
      "text/plain": [
       "2011-01-01 01:00:00    1\n",
       "2011-01-01 02:00:00    0\n",
       "2011-01-01 03:00:00    1\n",
       "2011-01-01 04:00:00    0\n",
       "2011-01-01 05:00:00    0\n",
       "2011-01-01 06:00:00    1\n",
       "2011-01-01 07:00:00    0\n",
       "2011-01-01 08:00:00    0\n",
       "2011-01-01 09:00:00    0\n",
       "2011-01-01 10:00:00    0\n",
       "2011-01-01 11:00:00    1\n",
       "2011-01-01 12:00:00    0\n",
       "2011-01-01 13:00:00    0\n",
       "2011-01-01 14:00:00    0\n",
       "2011-01-01 15:00:00    0\n",
       "2011-01-01 16:00:00    0\n",
       "2011-01-01 17:00:00    0\n",
       "2011-01-01 18:00:00    0\n",
       "2011-01-01 19:00:00    0\n",
       "2011-01-01 20:00:00    0\n",
       "2011-01-01 21:00:00    0\n",
       "2011-01-01 22:00:00    0\n",
       "2011-01-01 23:00:00    0\n",
       "2011-01-02 00:00:00    0\n",
       "2011-01-02 01:00:00    0\n",
       "2011-01-02 02:00:00    0\n",
       "2011-01-02 03:00:00    0\n",
       "2011-01-02 04:00:00    0\n",
       "2011-01-02 05:00:00    0\n",
       "2011-01-02 06:00:00    0\n",
       "                      ..\n",
       "2011-01-02 15:00:00    0\n",
       "2011-01-02 16:00:00    0\n",
       "2011-01-02 17:00:00    1\n",
       "2011-01-02 18:00:00    0\n",
       "2011-01-02 19:00:00    0\n",
       "2011-01-02 20:00:00    0\n",
       "2011-01-02 21:00:00    0\n",
       "2011-01-02 22:00:00    1\n",
       "2011-01-02 23:00:00    0\n",
       "2011-01-03 00:00:00    0\n",
       "2011-01-03 01:00:00    0\n",
       "2011-01-03 02:00:00    0\n",
       "2011-01-03 03:00:00    0\n",
       "2011-01-03 04:00:00    0\n",
       "2011-01-03 05:00:00    1\n",
       "2011-01-03 06:00:00    0\n",
       "2011-01-03 07:00:00    0\n",
       "2011-01-03 08:00:00    1\n",
       "2011-01-03 09:00:00    0\n",
       "2011-01-03 10:00:00    0\n",
       "2011-01-03 11:00:00    0\n",
       "2011-01-03 12:00:00    0\n",
       "2011-01-03 13:00:00    0\n",
       "2011-01-03 14:00:00    0\n",
       "2011-01-03 15:00:00    0\n",
       "2011-01-03 16:00:00    1\n",
       "2011-01-03 17:00:00    0\n",
       "2011-01-03 18:00:00    0\n",
       "2011-01-03 19:00:00    0\n",
       "2011-01-03 20:00:00    1\n",
       "Freq: H, dtype: int64"
      ]
     },
     "execution_count": 13,
     "metadata": {},
     "output_type": "execute_result"
    }
   ],
   "source": [
    "irreg_ts.resample('H').count()"
   ]
  },
  {
   "cell_type": "code",
   "execution_count": null,
   "metadata": {
    "collapsed": true
   },
   "outputs": [],
   "source": []
  }
 ],
 "metadata": {
  "kernelspec": {
   "display_name": "Python 3",
   "language": "python",
   "name": "python3"
  },
  "language_info": {
   "codemirror_mode": {
    "name": "ipython",
    "version": 3
   },
   "file_extension": ".py",
   "mimetype": "text/x-python",
   "name": "python",
   "nbconvert_exporter": "python",
   "pygments_lexer": "ipython3",
   "version": "3.6.0"
  }
 },
 "nbformat": 4,
 "nbformat_minor": 0
}
