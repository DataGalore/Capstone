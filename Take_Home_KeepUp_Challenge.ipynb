{
 "cells": [
  {
   "cell_type": "markdown",
   "metadata": {},
   "source": [
    "# KeepUp Inc challenge"
   ]
  },
  {
   "cell_type": "markdown",
   "metadata": {},
   "source": [
    "A. (Suggested duration: 90 mins)\n",
    "With the given data for 548552 products, perform exploratory analysis and make suggestions for further analysis on the following aspects.\n",
    "1. Trustworthiness of ratings Ratings are susceptible to manipulation, bias etc. What can you say (quantitatively speaking) about the ratings in this dataset?"
   ]
  },
  {
   "cell_type": "code",
   "execution_count": 71,
   "metadata": {
    "collapsed": true
   },
   "outputs": [],
   "source": [
    "import pandas as pd\n",
    "import datetime\n",
    "%matplotlib inline"
   ]
  },
  {
   "cell_type": "code",
   "execution_count": 50,
   "metadata": {
    "collapsed": true
   },
   "outputs": [],
   "source": [
    "fname = 'C:/Users/prerna/amazon-meta.txt'"
   ]
  },
  {
   "cell_type": "code",
   "execution_count": 52,
   "metadata": {
    "collapsed": true
   },
   "outputs": [],
   "source": [
    "with open(fname, encoding = 'utf8') as f:\n",
    "    content = f.readlines()\n",
    "#after reading the lines and separating with , trim the spaces out\n",
    "content = [x.strip() for x in content] \n",
    "print(content)"
   ]
  },
  {
   "cell_type": "code",
   "execution_count": 53,
   "metadata": {
    "collapsed": false
   },
   "outputs": [],
   "source": [
    "file = open(\"testfile.txt\",\"w\", encoding='utf8') \n",
    "columns = ['Id','ASIN', 'title', 'group','salesrank', 'categories', 'totalreviews', 'avgrating'] \n",
    "for line in content:\n",
    "    lines = line.split(':')\n",
    "    if lines[0] == \"Id\":\n",
    "        if (len(columns) == 8):\n",
    "            for component in columns[0:7]:\n",
    "                file.write(component)\n",
    "                file.write(',')\n",
    "            file.write(columns[7])\n",
    "            file.write(\"\\n\")\n",
    "        columns = []\n",
    "        columns.append(lines[1].strip())\n",
    "         \n",
    "    if lines[0] == \"ASIN\":\n",
    "        columns.append(lines[1].strip())\n",
    "        \n",
    "    if lines[0] == \"title\":\n",
    "        title = ':'.join(lines[1:]).strip().replace(',', ' ').replace('\\n', ' ').strip()\n",
    "        columns.append(title)\n",
    "        \n",
    "    if lines[0] == \"group\":\n",
    "        columns.append(lines[1].strip())\n",
    "        \n",
    "    if lines[0] == \"salesrank\":\n",
    "        columns.append(lines[1].strip()) \n",
    "        \n",
    "    if lines[0] == \"categories\":\n",
    "        columns.append(lines[1].strip())\n",
    "        \n",
    "    if lines[0] == \"reviews\" and lines[1].strip() == \"total\":\n",
    "        columns.append(lines[2].split(' ')[1])\n",
    "        columns.append(lines[4].strip())\n",
    "file.close()"
   ]
  },
  {
   "cell_type": "code",
   "execution_count": 64,
   "metadata": {
    "collapsed": false
   },
   "outputs": [],
   "source": [
    "dfTest = pd.read_csv('C:\\\\Users\\\\prerna\\\\AA\\\\testfile.txt',sep=',')"
   ]
  },
  {
   "cell_type": "code",
   "execution_count": 65,
   "metadata": {
    "collapsed": false
   },
   "outputs": [
    {
     "data": {
      "text/html": [
       "<div>\n",
       "<table border=\"1\" class=\"dataframe\">\n",
       "  <thead>\n",
       "    <tr style=\"text-align: right;\">\n",
       "      <th></th>\n",
       "      <th>Id</th>\n",
       "      <th>ASIN</th>\n",
       "      <th>title</th>\n",
       "      <th>group</th>\n",
       "      <th>salesrank</th>\n",
       "      <th>categories</th>\n",
       "      <th>totalreviews</th>\n",
       "      <th>avgrating</th>\n",
       "    </tr>\n",
       "  </thead>\n",
       "  <tbody>\n",
       "    <tr>\n",
       "      <th>0</th>\n",
       "      <td>1</td>\n",
       "      <td>0827229534</td>\n",
       "      <td>Patterns of Preaching: A Sermon Sampler</td>\n",
       "      <td>Book</td>\n",
       "      <td>396585</td>\n",
       "      <td>2</td>\n",
       "      <td>2</td>\n",
       "      <td>5.0</td>\n",
       "    </tr>\n",
       "    <tr>\n",
       "      <th>1</th>\n",
       "      <td>2</td>\n",
       "      <td>0738700797</td>\n",
       "      <td>Candlemas: Feast of Flames</td>\n",
       "      <td>Book</td>\n",
       "      <td>168596</td>\n",
       "      <td>2</td>\n",
       "      <td>12</td>\n",
       "      <td>4.5</td>\n",
       "    </tr>\n",
       "    <tr>\n",
       "      <th>2</th>\n",
       "      <td>3</td>\n",
       "      <td>0486287785</td>\n",
       "      <td>World War II Allied Fighter Planes Trading Cards</td>\n",
       "      <td>Book</td>\n",
       "      <td>1270652</td>\n",
       "      <td>1</td>\n",
       "      <td>1</td>\n",
       "      <td>5.0</td>\n",
       "    </tr>\n",
       "    <tr>\n",
       "      <th>3</th>\n",
       "      <td>4</td>\n",
       "      <td>0842328327</td>\n",
       "      <td>Life Application Bible Commentary: 1 and 2 Tim...</td>\n",
       "      <td>Book</td>\n",
       "      <td>631289</td>\n",
       "      <td>5</td>\n",
       "      <td>1</td>\n",
       "      <td>4.0</td>\n",
       "    </tr>\n",
       "    <tr>\n",
       "      <th>4</th>\n",
       "      <td>5</td>\n",
       "      <td>1577943082</td>\n",
       "      <td>Prayers That Avail Much for Business: Executive</td>\n",
       "      <td>Book</td>\n",
       "      <td>455160</td>\n",
       "      <td>2</td>\n",
       "      <td>0</td>\n",
       "      <td>0.0</td>\n",
       "    </tr>\n",
       "  </tbody>\n",
       "</table>\n",
       "</div>"
      ],
      "text/plain": [
       "   Id        ASIN                                              title group  \\\n",
       "0   1  0827229534            Patterns of Preaching: A Sermon Sampler  Book   \n",
       "1   2  0738700797                         Candlemas: Feast of Flames  Book   \n",
       "2   3  0486287785   World War II Allied Fighter Planes Trading Cards  Book   \n",
       "3   4  0842328327  Life Application Bible Commentary: 1 and 2 Tim...  Book   \n",
       "4   5  1577943082    Prayers That Avail Much for Business: Executive  Book   \n",
       "\n",
       "   salesrank  categories  totalreviews  avgrating  \n",
       "0     396585           2             2        5.0  \n",
       "1     168596           2            12        4.5  \n",
       "2    1270652           1             1        5.0  \n",
       "3     631289           5             1        4.0  \n",
       "4     455160           2             0        0.0  "
      ]
     },
     "execution_count": 65,
     "metadata": {},
     "output_type": "execute_result"
    }
   ],
   "source": [
    "dfTest.head()"
   ]
  },
  {
   "cell_type": "code",
   "execution_count": 66,
   "metadata": {
    "collapsed": false
   },
   "outputs": [
    {
     "name": "stdout",
     "output_type": "stream",
     "text": [
      "<class 'pandas.core.frame.DataFrame'>\n",
      "RangeIndex: 542683 entries, 0 to 542682\n",
      "Data columns (total 8 columns):\n",
      "Id              542683 non-null int64\n",
      "ASIN            542683 non-null object\n",
      "title           542683 non-null object\n",
      "group           542683 non-null object\n",
      "salesrank       542683 non-null int64\n",
      "categories      542683 non-null int64\n",
      "totalreviews    542683 non-null int64\n",
      "avgrating       542683 non-null float64\n",
      "dtypes: float64(1), int64(4), object(3)\n",
      "memory usage: 33.1+ MB\n"
     ]
    }
   ],
   "source": [
    "dfTest.info()"
   ]
  },
  {
   "cell_type": "markdown",
   "metadata": {},
   "source": [
    "#### Rating distribution"
   ]
  },
  {
   "cell_type": "code",
   "execution_count": 78,
   "metadata": {
    "collapsed": false
   },
   "outputs": [
    {
     "data": {
      "image/png": "[encoded data removed]",
      "text/plain": [
       "<matplotlib.figure.Figure at 0xd0181588>"
      ]
     },
     "metadata": {},
     "output_type": "display_data"
    }
   ],
   "source": [
    "import matplotlib.pyplot as plt\n",
    "dfTest['avgrating'].hist()\n",
    "plt.title('Ratings Distribution')\n",
    "plt.ylabel('count')\n",
    "# plt.xlabel('ratings') \n",
    "plt.show()"
   ]
  },
  {
   "cell_type": "code",
   "execution_count": 79,
   "metadata": {
    "collapsed": false
   },
   "outputs": [
    {
     "data": {
      "text/plain": [
       "5.0    145834\n",
       "0.0    139949\n",
       "4.5    103563\n",
       "4.0     83458\n",
       "3.5     34405\n",
       "3.0     21227\n",
       "2.5      6561\n",
       "2.0      4117\n",
       "1.0      2732\n",
       "1.5       837\n",
       "Name: avgrating, dtype: int64"
      ]
     },
     "execution_count": 79,
     "metadata": {},
     "output_type": "execute_result"
    }
   ],
   "source": [
    "dfTest['avgrating'].value_counts()"
   ]
  },
  {
   "cell_type": "code",
   "execution_count": 83,
   "metadata": {
    "collapsed": false
   },
   "outputs": [
    {
     "data": {
      "text/plain": [
       "<matplotlib.text.Text at 0xd55baf28>"
      ]
     },
     "execution_count": 83,
     "metadata": {},
     "output_type": "execute_result"
    },
    {
     "data": {
      "image/png": "[encoded data removed]",
      "text/plain": [
       "<matplotlib.figure.Figure at 0xd55b3d30>"
      ]
     },
     "metadata": {},
     "output_type": "display_data"
    }
   ],
   "source": [
    "dfTest.groupby(['group'])['Id'].count().plot.bar()\n",
    "plt.title('Ratings Distribution by group')\n",
    "plt.ylabel(\"count\")\n"
   ]
  },
  {
   "cell_type": "code",
   "execution_count": 84,
   "metadata": {
    "collapsed": false
   },
   "outputs": [
    {
     "data": {
      "text/plain": [
       "<matplotlib.text.Text at 0xd5685ac8>"
      ]
     },
     "execution_count": 84,
     "metadata": {},
     "output_type": "execute_result"
    },
    {
     "data": {
      "image/png": "[encoded data removed]",
      "text/plain": [
       "<matplotlib.figure.Figure at 0xd55eb4a8>"
      ]
     },
     "metadata": {},
     "output_type": "display_data"
    }
   ],
   "source": [
    "dfTest.groupby(['avgrating','group'])['avgrating'].count().unstack().plot.bar(stacked=True)\n",
    "plt.title('Ratings by Product Group')\n",
    "plt.ylabel('count')"
   ]
  },
  {
   "cell_type": "code",
   "execution_count": 86,
   "metadata": {
    "collapsed": false
   },
   "outputs": [
    {
     "data": {
      "text/plain": [
       "2      96585\n",
       "3      95636\n",
       "4      82447\n",
       "1      54645\n",
       "5      52002\n",
       "6      39143\n",
       "7      23130\n",
       "0      22903\n",
       "8      18997\n",
       "9      11006\n",
       "10      8517\n",
       "11      5463\n",
       "12      4408\n",
       "13      3140\n",
       "14      3114\n",
       "15      2857\n",
       "16      2445\n",
       "17      2055\n",
       "18      1808\n",
       "19      1647\n",
       "21      1524\n",
       "20      1350\n",
       "22      1239\n",
       "23      1073\n",
       "24       834\n",
       "25       764\n",
       "26       671\n",
       "27       560\n",
       "28       448\n",
       "29       383\n",
       "       ...  \n",
       "50         4\n",
       "63         4\n",
       "68         3\n",
       "75         3\n",
       "66         3\n",
       "77         3\n",
       "61         3\n",
       "59         3\n",
       "82         2\n",
       "72         2\n",
       "87         2\n",
       "88         2\n",
       "101        2\n",
       "64         2\n",
       "79         2\n",
       "89         1\n",
       "90         1\n",
       "95         1\n",
       "81         1\n",
       "97         1\n",
       "67         1\n",
       "80         1\n",
       "76         1\n",
       "74         1\n",
       "73         1\n",
       "71         1\n",
       "70         1\n",
       "69         1\n",
       "58         1\n",
       "116        1\n",
       "Name: categories, dtype: int64"
      ]
     },
     "execution_count": 86,
     "metadata": {},
     "output_type": "execute_result"
    }
   ],
   "source": [
    "# dfTest.groupby(['categories'])['Id'].count().plot.bar()\n",
    "# plt.title('Ratings Distribution by categories')\n",
    "# plt.ylabel(\"count\")\n",
    "\n",
    "dfTest['categories'].value_counts()"
   ]
  },
  {
   "cell_type": "markdown",
   "metadata": {},
   "source": [
    "Product thinking\n",
    "Now, put on your 'product thinking' hat:\n",
    "\n",
    "* Is it a good idea to show users the categorization hierarchy for items?\n",
    "\n",
    " **Some hierarchies may be useful as it gives more liberty to the users to navigate the site with more freedom and flexibility, \n",
    " yet too many hierarchies can be too overwhelming and can cause unnecessary overloading. Hence , I dont think exposing too many \n",
    " hierarchies would be helpful.\n",
    " \n",
    "\n",
    "* Is it a good idea to show users similar/co-purchased items? \n",
    "\n",
    " **Yes. It's very very likely that similar items catch users interest since these items are frequently bought by others along  \n",
    " with the primary item. That can persuade consumer's buying behaviour even if the user is not looking for those additional items \n",
    " at that time, if the suggestions pop up, its probable that the user could tag them along with the primary product.\n",
    "\n",
    "\n",
    "* Is it a good idea to show users reviews and ratings for items?\n",
    "\n",
    "  **Yes, It is a good idea to show users reviews and ratings for the items of interest. Reviews are the unbiased opinion of the  \n",
    "  products by other consumers. For a new consumer, it serves as a source to check the credibility and authenticity of the \n",
    "  product, its quality, it's price worthiness etc before making a purchasing decision. At the sametime, it also serves as a \n",
    "  source of feedback for the manufacturer of the products to evaluate the product's presence and performance in the market. It \n",
    "  also fosters a healthy competition between rival manufacturers. More popular products sell more! And above all it provides a \n",
    "  well formed community for users that builds trust among users and with the site itself.\n",
    "  \n",
    "\n",
    "* For each of the above, why? How will you establish the same?\n",
    " \n",
    " **We could employ clustering analysis for category analysis based on vectors of co-purchased features to determine how many   \n",
    " groups of products exist. From these groups of products we could compute cluster statistics and create product categories based  \n",
    " on those statistics.\n"
   ]
  },
  {
   "cell_type": "code",
   "execution_count": null,
   "metadata": {
    "collapsed": true
   },
   "outputs": [],
   "source": []
  }
 ],
 "metadata": {
  "kernelspec": {
   "display_name": "Python 3",
   "language": "python",
   "name": "python3"
  },
  "language_info": {
   "codemirror_mode": {
    "name": "ipython",
    "version": 3
   },
   "file_extension": ".py",
   "mimetype": "text/x-python",
   "name": "python",
   "nbconvert_exporter": "python",
   "pygments_lexer": "ipython3",
   "version": "3.6.0"
  }
 },
 "nbformat": 4,
 "nbformat_minor": 2
}
